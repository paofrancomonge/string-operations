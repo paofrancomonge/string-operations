{
 "cells": [
  {
   "cell_type": "markdown",
   "metadata": {},
   "source": [
    "# String Operations Lab\n",
    "\n",
    "**Before your start:**\n",
    "\n",
    "- Read the README.md file\n",
    "- Comment as much as you can and use the resources in the README.md file\n",
    "- Happy learning!"
   ]
  },
  {
   "cell_type": "code",
   "execution_count": 1,
   "metadata": {},
   "outputs": [],
   "source": [
    "import re"
   ]
  },
  {
   "cell_type": "markdown",
   "metadata": {},
   "source": [
    "# Challenge 1 - Combining Strings\n",
    "\n",
    "Combining strings is an important skill to acquire. There are multiple ways of combining strings in Python, as well as combining strings with variables. We will explore this in the first challenge. In the cell below, combine the strings in the list and add spaces between the strings (do not add a space after the last string). Insert a period after the last string."
   ]
  },
  {
   "cell_type": "code",
   "execution_count": 4,
   "metadata": {},
   "outputs": [
    {
     "name": "stdout",
     "output_type": "stream",
     "text": [
      "Durante un tiempo no estuvo segura de si su marido era su marido.\n"
     ]
    }
   ],
   "source": [
    "str_list = ['Durante', 'un', 'tiempo', 'no', 'estuvo', 'segura', 'de', 'si', 'su', 'marido', 'era', 'su', 'marido']\n",
    "# Your code here:\n",
    "lista = \" \".join(str_list)+\".\"\n",
    "print(lista)"
   ]
  },
  {
   "cell_type": "markdown",
   "metadata": {},
   "source": [
    "In the cell below, use the list of strings to create a grocery list. Start the list with the string `Grocery list: ` and include a comma and a space between each item except for the last one. Include a period at the end. Only include foods in the list that start with the letter 'b' and ensure all foods are lower case."
   ]
  },
  {
   "cell_type": "code",
   "execution_count": 11,
   "metadata": {},
   "outputs": [
    {
     "name": "stdout",
     "output_type": "stream",
     "text": [
      "Grocery list:Bananas, Chocolate, bread, diapers, Ice Cream, Brownie Mix, broccoli.\n",
      "Grocery list:  ['Bananas', 'bread', 'Brownie Mix', 'broccoli']\n",
      "Grocery list: Bananas, bread, Brownie Mix, broccoli.\n"
     ]
    }
   ],
   "source": [
    "food_list = ['Bananas', 'Chocolate', 'bread', 'diapers', 'Ice Cream', 'Brownie Mix', 'broccoli']\n",
    "# Your code here:\n",
    "grocery_list = \"Grocery list:\"+\", \".join(food_list)+\".\"\n",
    "print(grocery_list)\n",
    "#Duda... cómo pude haber puesto la condición sin necesidad de un loop?\n",
    "\n",
    "grocery_list2 = []\n",
    "\n",
    "for food in food_list:\n",
    "    if food.lower().startswith(\"b\"):\n",
    "        grocery_list2.append(food)\n",
    "\n",
    "print(\"Grocery list: \",grocery_list2)\n",
    "\n",
    "grocery_list3 = \"Grocery list: \"+\", \".join(grocery_list2)+\".\"\n",
    "print(grocery_list3)"
   ]
  },
  {
   "cell_type": "markdown",
   "metadata": {},
   "source": [
    "In the cell below, write a function that computes the area of a circle using its radius. Compute the area of the circle and insert the radius and the area between the two strings. Make sure to include spaces between the variable and the strings. \n",
    "\n",
    "Note: You can use the techniques we have learned so far or use f-strings. F-strings allow us to embed code inside strings. You can read more about f-strings [here](https://www.python.org/dev/peps/pep-0498/)."
   ]
  },
  {
   "cell_type": "code",
   "execution_count": 19,
   "metadata": {},
   "outputs": [
    {
     "data": {
      "text/plain": [
       "'The area of the circle with radius: 4.5 63.61725123519331'"
      ]
     },
     "execution_count": 19,
     "metadata": {},
     "output_type": "execute_result"
    }
   ],
   "source": [
    "import math\n",
    "\n",
    "string1 = \"The area of the circle with radius:\"\n",
    "string2  = \"is:\"\n",
    "radius = 4.5\n",
    "\n",
    "def area(x, pi = math.pi):\n",
    "    return pi*(x**2)\n",
    "    # This function takes a radius and returns the area of a circle. We also pass a default value for pi.\n",
    "    # Input: Float (and default value for pi)\n",
    "    # Output: Float\n",
    "    \n",
    "    # Sample input: 5.0\n",
    "    # Sample Output: 78.53981633\n",
    "    \n",
    "    # Your code here:\n",
    "    area(radius)\n",
    "# Your output string here:\n",
    "f'{string1} {radius} {area(radius)}'"
   ]
  },
  {
   "cell_type": "markdown",
   "metadata": {},
   "source": [
    "# Challenge 2 - Splitting Strings\n",
    "\n",
    "We have first looked at combining strings into one long string. There are times where we need to do the opposite and split the string into smaller components for further analysis. \n",
    "\n",
    "In the cell below, split the string into a list of strings using the space delimiter. Count the frequency of each word in the string in a dictionary. Strip the periods, line breaks and commas from the text. Make sure to remove empty strings from your dictionary."
   ]
  },
  {
   "cell_type": "code",
   "execution_count": 31,
   "metadata": {},
   "outputs": [
    {
     "name": "stdout",
     "output_type": "stream",
     "text": [
      "Some say the world will end in fire\n",
      "Some say in ice\n",
      "From what I’ve tasted of desire\n",
      "I hold with those who favor fire\n",
      "But if it had to perish twice\n",
      "I think I know enough of hate\n",
      "To say that for destruction ice\n",
      "Is also great\n",
      "And would suffice\n",
      "['Some say the world will end in fire', 'Some say in ice', 'From what I’ve tasted of desire', 'I hold with those who favor fire', 'But if it had to perish twice', 'I think I know enough of hate', 'To say that for destruction ice', 'Is also great', 'And would suffice']\n",
      "{'Some say the world will end in fire': 1, 'Some say in ice': 1, 'From what I’ve tasted of desire': 1, 'I hold with those who favor fire': 1, 'But if it had to perish twice': 1, 'I think I know enough of hate': 1, 'To say that for destruction ice': 1, 'Is also great': 1, 'And would suffice': 1}\n"
     ]
    }
   ],
   "source": [
    "poem = \"\"\"Some say the world will end in fire,\n",
    "Some say in ice.\n",
    "From what I’ve tasted of desire\n",
    "I hold with those who favor fire.\n",
    "But if it had to perish twice,\n",
    "I think I know enough of hate\n",
    "To say that for destruction ice\n",
    "Is also great\n",
    "And would suffice.\"\"\"\n",
    "\n",
    "# Your code here:\n",
    "# por què no puedo usar re.sub para sustituir poem1 = print(re.sub([\",\",\".\"],\"\",poem))\n",
    "poem1 = poem.replace(\".\",\"\").replace(\",\",\"\")\n",
    "print(poem1)\n",
    "\n",
    "poem2 = re.split((\"\\n\"),poem1)\n",
    "print(poem2)\n",
    "\n",
    "freq = {}\n",
    "\n",
    "for word in poem2:\n",
    "    freq[word] = poem2.count(word)\n",
    "    \n",
    "print(freq)"
   ]
  },
  {
   "cell_type": "markdown",
   "metadata": {},
   "source": [
    "In the cell below, find all the words that appear in the text and do not appear in the blacklist. You must parse the string but can choose any data structure you wish for the words that do not appear in the blacklist. Remove all non letter characters and convert all words to lower case."
   ]
  },
  {
   "cell_type": "code",
   "execution_count": 45,
   "metadata": {},
   "outputs": [
    {
     "name": "stdout",
     "output_type": "stream",
     "text": [
      "I was angry with my friend \n",
      "I told my wrath my wrath did end\n",
      "I was angry with my foe \n",
      "I told it not my wrath did grow \n",
      "\n",
      "And I waterd it in fears\n",
      "Night & morning with my tears \n",
      "And I sunned it with smiles\n",
      "And with soft deceitful wiles \n",
      "\n",
      "And it grew both day and night \n",
      "Till it bore an apple bright \n",
      "And my foe beheld it shine\n",
      "And he knew that it was mine \n",
      "\n",
      "And into my garden stole \n",
      "When the night had veild the pole \n",
      "In the morning glad I see \n",
      "My foe outstretched beneath the tree\n",
      "i was angry with my friend \n",
      "i told my wrath my wrath did end\n",
      "i was angry with my foe \n",
      "i told it not my wrath did grow \n",
      "\n",
      "and i waterd it in fears\n",
      "night & morning with my tears \n",
      "and i sunned it with smiles\n",
      "and with soft deceitful wiles \n",
      "\n",
      "and it grew both day and night \n",
      "till it bore an apple bright \n",
      "and my foe beheld it shine\n",
      "and he knew that it was mine \n",
      "\n",
      "and into my garden stole \n",
      "when the night had veild the pole \n",
      "in the morning glad i see \n",
      "my foe outstretched beneath the tree\n",
      "['i', 'was', 'angry', 'with', 'my', 'friend', '\\ni', 'told', 'my', 'wrath', 'my', 'wrath', 'did', 'end\\ni', 'was', 'angry', 'with', 'my', 'foe', '\\ni', 'told', 'it', 'not', 'my', 'wrath', 'did', 'grow', '\\n\\nand', 'i', 'waterd', 'it', 'in', 'fears\\nnight', '&', 'morning', 'with', 'my', 'tears', '\\nand', 'i', 'sunned', 'it', 'with', 'smiles\\nand', 'with', 'soft', 'deceitful', 'wiles', '\\n\\nand', 'it', 'grew', 'both', 'day', 'and', 'night', '\\ntill', 'it', 'bore', 'an', 'apple', 'bright', '\\nand', 'my', 'foe', 'beheld', 'it', 'shine\\nand', 'he', 'knew', 'that', 'it', 'was', 'mine', '\\n\\nand', 'into', 'my', 'garden', 'stole', '\\nwhen', 'the', 'night', 'had', 'veild', 'the', 'pole', '\\nin', 'the', 'morning', 'glad', 'i', 'see', '\\nmy', 'foe', 'outstretched', 'beneath', 'the', 'tree']\n",
      "['i', 'was', 'angry', 'with', 'my', 'friend', '\\ni', 'told', 'my', 'wrath', 'my', 'wrath', 'did', 'end\\ni', 'was', 'angry', 'with', 'my', 'foe', '\\ni', 'told', 'not', 'my', 'wrath', 'did', 'grow', '\\n\\nand', 'i', 'waterd', 'fears\\nnight', '&', 'morning', 'with', 'my', 'tears', '\\nand', 'i', 'sunned', 'with', 'smiles\\nand', 'with', 'soft', 'deceitful', 'wiles', '\\n\\nand', 'grew', 'both', 'day', 'night', '\\ntill', 'bore', 'apple', 'bright', '\\nand', 'my', 'foe', 'beheld', 'shine\\nand', 'he', 'knew', 'that', 'was', 'mine', '\\n\\nand', 'into', 'my', 'garden', 'stole', '\\nwhen', 'night', 'had', 'veild', 'pole', '\\nin', 'morning', 'glad', 'i', 'see', '\\nmy', 'foe', 'outstretched', 'beneath', 'tree']\n"
     ]
    }
   ],
   "source": [
    "blacklist = ['and', 'as', 'an', 'a', 'the', 'in', 'it']\n",
    "\n",
    "poem = \"\"\"I was angry with my friend; \n",
    "I told my wrath, my wrath did end.\n",
    "I was angry with my foe: \n",
    "I told it not, my wrath did grow. \n",
    "\n",
    "And I waterd it in fears,\n",
    "Night & morning with my tears: \n",
    "And I sunned it with smiles,\n",
    "And with soft deceitful wiles. \n",
    "\n",
    "And it grew both day and night. \n",
    "Till it bore an apple bright. \n",
    "And my foe beheld it shine,\n",
    "And he knew that it was mine. \n",
    "\n",
    "And into my garden stole, \n",
    "When the night had veild the pole; \n",
    "In the morning glad I see; \n",
    "My foe outstretched beneath the tree.\"\"\"\n",
    "\n",
    "# Your code here:\n",
    "no_characters = poem.replace(\",\",\"\").replace(\".\",\"\").replace(\":\",\"\").replace(\";\",\"\")\n",
    "print(no_characters)\n",
    "#cómo puedo poner varios signos a ser remplazados para no hacer varios replace?\n",
    "\n",
    "lower = no_characters.lower()\n",
    "print(lower)\n",
    "\n",
    "split_poem = lower.split(\" \")\n",
    "print(split_poem)\n",
    "\n",
    "backlist = []\n",
    "not_backlist = []\n",
    "\n",
    "for word in split_poem:\n",
    "    if word in blacklist:\n",
    "        backlist.append(word)\n",
    "    else:\n",
    "        not_backlist.append(word)\n",
    "\n",
    "print(not_backlist)"
   ]
  },
  {
   "cell_type": "markdown",
   "metadata": {},
   "source": [
    "# Challenge 3 - Regular Expressions\n",
    "\n",
    "Sometimes, we would like to perform more complex manipulations of our string. This is where regular expressions come in handy. In the cell below, return all characters that are upper case from the string specified below."
   ]
  },
  {
   "cell_type": "code",
   "execution_count": 52,
   "metadata": {},
   "outputs": [
    {
     "name": "stdout",
     "output_type": "stream",
     "text": [
      "['T', 'P']\n"
     ]
    }
   ],
   "source": [
    "poem = \"\"\"The apparition of these faces in the crowd;\n",
    "Petals on a wet, black bough.\"\"\"\n",
    "\n",
    "# Your code here:\n",
    "upper = re.findall(\"[A-Z]\",poem)\n",
    "print(upper)"
   ]
  },
  {
   "cell_type": "markdown",
   "metadata": {},
   "source": [
    "In the cell below, filter the list provided and return all elements of the list containing a number. To filter the list, use the `re.search` function. Check if the function does not return `None`. You can read more about the `re.search` function [here](https://docs.python.org/3/library/re.html)."
   ]
  },
  {
   "cell_type": "code",
   "execution_count": 55,
   "metadata": {},
   "outputs": [
    {
     "name": "stdout",
     "output_type": "stream",
     "text": [
      "['123abc', 'abc123', 'JohnSmith1', 'ABBY4']\n"
     ]
    }
   ],
   "source": [
    "data = ['123abc', 'abc123', 'JohnSmith1', 'ABBY4', 'JANE']\n",
    "\n",
    "# Your code here:\n",
    "number = []\n",
    "\n",
    "for num in data:\n",
    "    if re.search(\"[0-9]\",num):\n",
    "        number.append(num)\n",
    "        \n",
    "print(number)"
   ]
  },
  {
   "cell_type": "markdown",
   "metadata": {},
   "source": [
    "# Bonus Challenge - Regular Expressions II\n",
    "\n",
    "In the cell below, filter the list provided to keep only strings containing at least one digit and at least one lower case letter. As in the previous question, use the `re.search` function and check that the result is not `None`.\n",
    "\n",
    "To read more about regular expressions, check out [this link](https://developers.google.com/edu/python/regular-expressions)."
   ]
  },
  {
   "cell_type": "code",
   "execution_count": 58,
   "metadata": {},
   "outputs": [
    {
     "name": "stdout",
     "output_type": "stream",
     "text": [
      "['123abc', 'abc123', 'JohnSmith1']\n"
     ]
    }
   ],
   "source": [
    "data = ['123abc', 'abc123', 'JohnSmith1', 'ABBY4', 'JANE']\n",
    "# Your code here:\n",
    "result = []\n",
    "\n",
    "for string in data:\n",
    "    if re.search(\"[0-9]\",string) and re.search(\"[a-z]\",string):\n",
    "        result.append(string)\n",
    "\n",
    "print(result)"
   ]
  },
  {
   "cell_type": "code",
   "execution_count": null,
   "metadata": {},
   "outputs": [],
   "source": []
  }
 ],
 "metadata": {
  "kernelspec": {
   "display_name": "Python 3",
   "language": "python",
   "name": "python3"
  },
  "language_info": {
   "codemirror_mode": {
    "name": "ipython",
    "version": 3
   },
   "file_extension": ".py",
   "mimetype": "text/x-python",
   "name": "python",
   "nbconvert_exporter": "python",
   "pygments_lexer": "ipython3",
   "version": "3.8.6"
  }
 },
 "nbformat": 4,
 "nbformat_minor": 2
}
